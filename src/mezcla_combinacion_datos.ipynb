{
 "cells": [
  {
   "cell_type": "code",
   "execution_count": 82,
   "metadata": {},
   "outputs": [],
   "source": [
    "import pandas as pd\n",
    "import os\n",
    "from funciones_base import timeout_input\n",
    "\n",
    "\n",
    "\n"
   ]
  },
  {
   "cell_type": "code",
   "execution_count": 83,
   "metadata": {},
   "outputs": [],
   "source": [
    "def load_data():\n",
    "    file_paths = [\n",
    "        '..\\\\output\\\\df_caracteristicas_equipos_tratados.csv',\n",
    "        '..\\\\output\\\\df_historico_ordenes_tratados.csv',\n",
    "        '..\\\\output\\\\df_registros_condiciones_tratados.csv'\n",
    "    ]\n",
    "    \n",
    "    for file_path in file_paths:\n",
    "        if not os.path.exists(file_path):\n",
    "            print(f\"Revisa que existan los ficheros: {file_path}\")\n",
    "            return None, None, None\n",
    "    \n",
    "    df_carac = pd.read_csv(file_paths[0])\n",
    "    df_hist = pd.read_csv(file_paths[1])\n",
    "    df_cond = pd.read_csv(file_paths[2])\n",
    "    print(\"Ficheros leidos correctamente\")\n",
    "    return df_carac, df_hist, df_cond\n"
   ]
  },
  {
   "cell_type": "code",
   "execution_count": 84,
   "metadata": {},
   "outputs": [],
   "source": [
    "def merge_data(df_carac, df_hist, df_cond):\n",
    "    df_merged = pd.merge(df_carac, df_hist, on='ID_Equipo', how='left')\n",
    "    df_merged = pd.merge(df_merged, df_cond, on='ID_Equipo', how='left')\n",
    "    df_merged.drop_duplicates(inplace=True)\n",
    "    df_merged.dropna(inplace=True)\n",
    "    return df_merged\n",
    "\n"
   ]
  },
  {
   "cell_type": "code",
   "execution_count": 85,
   "metadata": {},
   "outputs": [],
   "source": [
    "def create_new_columns(df):\n",
    "    df['Tiempo_Hasta_Fallo'] = df.groupby('ID_Equipo')['Horas_Operativas'].diff().fillna(0)\n",
    "    df['Impacto_Vibracion'] = df['Vibracion_mm_s'] * df['Duracion_Horas']\n",
    "    df['Impacto_Temperatura'] = df['Temperatura_C'] * df['Duracion_Horas']\n",
    "    return df\n"
   ]
  },
  {
   "cell_type": "code",
   "execution_count": 87,
   "metadata": {},
   "outputs": [
    {
     "name": "stdout",
     "output_type": "stream",
     "text": [
      "..\\output\\ df_combinado.csv\n"
     ]
    }
   ],
   "source": [
    "output_dir = '..\\\\output\\\\'\n",
    "print(output_dir, 'df_combinado.csv')\n"
   ]
  },
  {
   "cell_type": "code",
   "execution_count": 63,
   "metadata": {},
   "outputs": [
    {
     "name": "stdout",
     "output_type": "stream",
     "text": [
      "Ficheros leidos correctamente\n",
      "Archivo guardado en ..\\output\\df_combinado.csv\n"
     ]
    }
   ],
   "source": [
    "\n",
    "df_carac, df_hist, df_cond = load_data()\n",
    "df_merged = merge_data(df_carac, df_hist, df_cond)\n",
    "df_final = create_new_columns(df_merged)\n",
    "    \n",
    "file_path = '..\\\\output\\\\df_combinado.csv'\n",
    "    \n",
    "if os.path.exists(file_path):\n",
    "    user_input = input(f\"El archivo {file_path} existe. ¿sobrescribirlo? (s/n): \")\n",
    "    if user_input.lower() != 's':\n",
    "        print(\"No aceptado\")\n",
    "            \n",
    "df_final.to_csv(file_path, index=False)\n",
    "print(f\"Archivo guardado en {file_path}\")\n",
    "\n"
   ]
  },
  {
   "cell_type": "code",
   "execution_count": 88,
   "metadata": {},
   "outputs": [
    {
     "name": "stdout",
     "output_type": "stream",
     "text": [
      "Ficheros leidos correctamente\n"
     ]
    },
    {
     "ename": "NameError",
     "evalue": "name 'threading' is not defined",
     "output_type": "error",
     "traceback": [
      "\u001b[1;31m---------------------------------------------------------------------------\u001b[0m",
      "\u001b[1;31mNameError\u001b[0m                                 Traceback (most recent call last)",
      "Cell \u001b[1;32mIn[88], line 12\u001b[0m\n\u001b[0;32m      9\u001b[0m file_path \u001b[38;5;241m=\u001b[39m \u001b[38;5;124m'\u001b[39m\u001b[38;5;124m..\u001b[39m\u001b[38;5;130;01m\\\\\u001b[39;00m\u001b[38;5;124moutput\u001b[39m\u001b[38;5;130;01m\\\\\u001b[39;00m\u001b[38;5;124mdf_combinado.csv\u001b[39m\u001b[38;5;124m'\u001b[39m\n\u001b[0;32m     11\u001b[0m \u001b[38;5;28;01mif\u001b[39;00m os\u001b[38;5;241m.\u001b[39mpath\u001b[38;5;241m.\u001b[39mexists(file_path):\n\u001b[1;32m---> 12\u001b[0m     user_input \u001b[38;5;241m=\u001b[39m \u001b[43mtimeout_input\u001b[49m\u001b[43m(\u001b[49m\u001b[38;5;124;43mf\u001b[39;49m\u001b[38;5;124;43m\"\u001b[39;49m\u001b[38;5;124;43mEl archivo \u001b[39;49m\u001b[38;5;132;43;01m{\u001b[39;49;00m\u001b[43mfile_path\u001b[49m\u001b[38;5;132;43;01m}\u001b[39;49;00m\u001b[38;5;124;43m existe. ¿sobrescribirlo? (s/n): \u001b[39;49m\u001b[38;5;124;43m\"\u001b[39;49m\u001b[43m,\u001b[49m\u001b[43m \u001b[49m\u001b[38;5;241;43m60\u001b[39;49m\u001b[43m)\u001b[49m\n\u001b[0;32m     13\u001b[0m     \u001b[38;5;28;01mif\u001b[39;00m user_input \u001b[38;5;129;01mis\u001b[39;00m \u001b[38;5;28;01mNone\u001b[39;00m \u001b[38;5;129;01mor\u001b[39;00m user_input\u001b[38;5;241m.\u001b[39mlower() \u001b[38;5;241m!=\u001b[39m \u001b[38;5;124m'\u001b[39m\u001b[38;5;124ms\u001b[39m\u001b[38;5;124m'\u001b[39m:\n\u001b[0;32m     14\u001b[0m         \u001b[38;5;28mprint\u001b[39m(\u001b[38;5;124m\"\u001b[39m\u001b[38;5;124mNo aceptado\u001b[39m\u001b[38;5;124m\"\u001b[39m)\n",
      "File \u001b[1;32mc:\\Users\\UF775634\\Downloads\\curso\\Avro\\Curso\\EjercicioEtapa2\\datafundamentals_calidad_datos_perfilado\\src\\funciones_base.py:6\u001b[0m, in \u001b[0;36mtimeout_input\u001b[1;34m(prompt, timeout)\u001b[0m\n\u001b[0;32m      3\u001b[0m \u001b[38;5;28;01mdef\u001b[39;00m\u001b[38;5;250m \u001b[39m\u001b[38;5;21mget_input\u001b[39m():\n\u001b[0;32m      4\u001b[0m     user_input[\u001b[38;5;241m0\u001b[39m] \u001b[38;5;241m=\u001b[39m \u001b[38;5;28minput\u001b[39m(prompt)\n\u001b[1;32m----> 6\u001b[0m thread \u001b[38;5;241m=\u001b[39m \u001b[43mthreading\u001b[49m\u001b[38;5;241m.\u001b[39mThread(target\u001b[38;5;241m=\u001b[39mget_input)\n\u001b[0;32m      7\u001b[0m thread\u001b[38;5;241m.\u001b[39mstart()\n\u001b[0;32m      8\u001b[0m thread\u001b[38;5;241m.\u001b[39mjoin(timeout)\n",
      "\u001b[1;31mNameError\u001b[0m: name 'threading' is not defined"
     ]
    }
   ],
   "source": [
    "# Código principal\n",
    "df_carac, df_hist, df_cond = load_data()\n",
    "if df_carac is None or df_hist is None or df_cond is None:\n",
    "    exit()\n",
    "\n",
    "df_merged = merge_data(df_carac, df_hist, df_cond)\n",
    "df_final = create_new_columns(df_merged)\n",
    "\n",
    "file_path = '..\\\\output\\\\df_combinado.csv'\n",
    "\n",
    "if os.path.exists(file_path):\n",
    "    user_input = timeout_input(f\"El archivo {file_path} existe. ¿sobrescribirlo? (s/n): \", 60)\n",
    "    if user_input is None or user_input.lower() != 's':\n",
    "        print(\"No aceptado\")\n",
    "        exit()\n",
    "\n",
    "df_final.to_csv(file_path, index=False)\n",
    "print(f\"Archivo guardado en {file_path}\")"
   ]
  },
  {
   "cell_type": "code",
   "execution_count": 89,
   "metadata": {},
   "outputs": [
    {
     "name": "stdout",
     "output_type": "stream",
     "text": [
      "Threading module is available\n"
     ]
    }
   ],
   "source": []
  }
 ],
 "metadata": {
  "kernelspec": {
   "display_name": "Azure_Datalake",
   "language": "python",
   "name": "python3"
  },
  "language_info": {
   "codemirror_mode": {
    "name": "ipython",
    "version": 3
   },
   "file_extension": ".py",
   "mimetype": "text/x-python",
   "name": "python",
   "nbconvert_exporter": "python",
   "pygments_lexer": "ipython3",
   "version": "3.12.8"
  }
 },
 "nbformat": 4,
 "nbformat_minor": 2
}
