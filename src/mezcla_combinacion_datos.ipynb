{
 "cells": [
  {
   "cell_type": "code",
   "execution_count": 1,
   "metadata": {},
   "outputs": [
    {
     "name": "stdout",
     "output_type": "stream",
     "text": [
      "Threading module is available\n"
     ]
    }
   ],
   "source": [
    "import pandas as pd\n",
    "import os\n",
    "from funciones_base import timeout_input\n",
    "\n",
    "\n",
    "\n"
   ]
  },
  {
   "cell_type": "code",
   "execution_count": 2,
   "metadata": {},
   "outputs": [],
   "source": [
    "def load_data():\n",
    "    file_paths = [\n",
    "        '..\\\\output\\\\df_caracteristicas_equipos_tratados.csv',\n",
    "        '..\\\\output\\\\df_historico_ordenes_tratados.csv',\n",
    "        '..\\\\output\\\\df_registros_condiciones_tratados.csv'\n",
    "    ]\n",
    "    \n",
    "    for file_path in file_paths:\n",
    "        if not os.path.exists(file_path):\n",
    "            print(f\"Revisa que existan los ficheros: {file_path}\")\n",
    "            return None, None, None\n",
    "    \n",
    "    df_carac = pd.read_csv(file_paths[0])\n",
    "    df_hist = pd.read_csv(file_paths[1])\n",
    "    df_cond = pd.read_csv(file_paths[2])\n",
    "    print(\"Ficheros leidos correctamente\")\n",
    "    return df_carac, df_hist, df_cond\n"
   ]
  },
  {
   "cell_type": "code",
   "execution_count": 3,
   "metadata": {},
   "outputs": [],
   "source": [
    "\n",
    "def merge_data(df_carac, df_hist, df_cond):\n",
    "    df_merged = pd.merge(df_carac, df_hist, on='ID_Equipo', how='left')\n",
    "    df_merged = pd.merge(df_merged, df_cond, on='ID_Equipo', how='left')\n",
    "    df_merged.drop_duplicates(inplace=True)\n",
    "    df_merged.dropna(inplace=True)\n",
    "    return df_merged\n",
    "\n"
   ]
  },
  {
   "cell_type": "code",
   "execution_count": 4,
   "metadata": {},
   "outputs": [],
   "source": [
    "def create_new_columns(df):\n",
    "    df['Tiempo_Hasta_Fallo'] = df.groupby('ID_Equipo')['Horas_Operativas'].diff().fillna(0)\n",
    "    df['Impacto_Vibracion'] = df['Vibracion_mm_s'] * df['Duracion_Horas']\n",
    "    df['Impacto_Temperatura'] = df['Temperatura_C'] * df['Duracion_Horas']\n",
    "    return df\n"
   ]
  },
  {
   "cell_type": "code",
   "execution_count": 5,
   "metadata": {},
   "outputs": [
    {
     "name": "stdout",
     "output_type": "stream",
     "text": [
      "..\\output\\ df_combinado.csv\n"
     ]
    }
   ],
   "source": [
    "output_dir = '..\\\\output\\\\'\n",
    "print(output_dir, 'df_combinado.csv')\n"
   ]
  },
  {
   "cell_type": "code",
   "execution_count": null,
   "metadata": {},
   "outputs": [
    {
     "name": "stdout",
     "output_type": "stream",
     "text": [
      "Ficheros leidos correctamente\n",
      "Archivo guardado en ..\\output\\df_combinado.csv\n"
     ]
    }
   ],
   "source": [
    "# sin temporizado de no respuesta\n",
    "#df_carac, df_hist, df_cond = load_data()\n",
    "#df_merged = merge_data(df_carac, df_hist, df_cond)\n",
    "#df_final = create_new_columns(df_merged)\n",
    "    \n",
    "#file_path = '..\\\\output\\\\df_combinado.csv'\n",
    "    \n",
    "#if os.path.exists(file_path):\n",
    "#    user_input = input(f\"El archivo {file_path} existe. ¿sobrescribirlo? (s/n): \")\n",
    "#    if user_input.lower() != 's':\n",
    "#        print(\"No aceptado\")\n",
    "            \n",
    "#df_final.to_csv(file_path, index=False)\n",
    "#print(f\"Archivo guardado en {file_path}\")\n",
    "\n"
   ]
  },
  {
   "cell_type": "code",
   "execution_count": null,
   "metadata": {},
   "outputs": [
    {
     "name": "stdout",
     "output_type": "stream",
     "text": [
      "Ficheros leidos correctamente\n",
      "Tiempo excedido\n",
      "No aceptado\n",
      "Archivo guardado en ..\\output\\df_combinado.csv\n"
     ]
    },
    {
     "ename": "",
     "evalue": "",
     "output_type": "error",
     "traceback": [
      "\u001b[1;31mThe Kernel crashed while executing code in the current cell or a previous cell. \n",
      "\u001b[1;31mPlease review the code in the cell(s) to identify a possible cause of the failure. \n",
      "\u001b[1;31mClick <a href='https://aka.ms/vscodeJupyterKernelCrash'>here</a> for more info. \n",
      "\u001b[1;31mView Jupyter <a href='command:jupyter.viewOutput'>log</a> for further details."
     ]
    }
   ],
   "source": [
    "\n",
    "# Código principal\n",
    "df_carac, df_hist, df_cond = load_data()\n",
    "if df_carac is None or df_hist is None or df_cond is None:\n",
    "    exit()\n",
    "\n",
    "df_merged = merge_data(df_carac, df_hist, df_cond)\n",
    "df_final = create_new_columns(df_merged)\n",
    "\n",
    "file_path = '..\\\\output\\\\df_combinado.csv'\n",
    "\n",
    "if os.path.exists(file_path):\n",
    "    user_input = timeout_input(f\"El archivo {file_path} existe. ¿sobrescribirlo? (s/n): \", 60)\n",
    "    if user_input is None or user_input.lower() != 's':\n",
    "        print(\"No aceptado\")\n",
    "        exit()\n",
    "\n",
    "df_final.to_csv(file_path, index=False)\n",
    "print(f\"Archivo guardado en {file_path}\")"
   ]
  },
  {
   "cell_type": "code",
   "execution_count": null,
   "metadata": {},
   "outputs": [],
   "source": []
  }
 ],
 "metadata": {
  "kernelspec": {
   "display_name": "Azure_Datalake",
   "language": "python",
   "name": "python3"
  },
  "language_info": {
   "codemirror_mode": {
    "name": "ipython",
    "version": 3
   },
   "file_extension": ".py",
   "mimetype": "text/x-python",
   "name": "python",
   "nbconvert_exporter": "python",
   "pygments_lexer": "ipython3",
   "version": "3.12.8"
  }
 },
 "nbformat": 4,
 "nbformat_minor": 2
}
