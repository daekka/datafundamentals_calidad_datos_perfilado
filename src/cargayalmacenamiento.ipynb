{
 "cells": [
  {
   "cell_type": "markdown",
   "metadata": {},
   "source": [
    "# Importar bibliotecas necesarias"
   ]
  },
  {
   "cell_type": "code",
   "execution_count": null,
   "metadata": {
    "vscode": {
     "languageId": "plaintext"
    }
   },
   "outputs": [],
   "source": [
    "import pandas as pd\n",
    "import psycopg2\n",
    "\n",
    "from psycopg2 import Error # Importar la clase Error\n",
    "from psycopg2 import sql"
   ]
  },
  {
   "cell_type": "markdown",
   "metadata": {},
   "source": [
    "# Conexión con la base de datos PostgreSQL"
   ]
  },
  {
   "cell_type": "code",
   "execution_count": null,
   "metadata": {
    "vscode": {
     "languageId": "plaintext"
    }
   },
   "outputs": [],
   "source": [
    "# Conexión a la base de datos\n",
    "def create_database_connection():\n",
    "conn = None\n",
    "try:\n",
    "    conn = psycopg2.connect(\n",
    "    database=\"datafundamental\",\n",
    "    user=\"datafundamental_owner\",\n",
    "    password=\"uozci0wQGpA6\",\n",
    "    host=\"ep-solitary-pond-a2p3evpo.eu-central-1.aws.neon.tech\",\n",
    "    sslmode=\"require\",\n",
    "    port=5432\n",
    "    )\n",
    "    print(\"Connected to 'datafundamental' successfully.\")\n",
    "except psycopg2.Error as err:\n",
    "    print(f\"Error: {err}\")\n",
    "    return conn"
   ]
  }
 ],
 "metadata": {
  "language_info": {
   "name": "python"
  }
 },
 "nbformat": 4,
 "nbformat_minor": 2
}
