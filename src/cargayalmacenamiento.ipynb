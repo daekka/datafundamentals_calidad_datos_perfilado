Importar bibliotecas necesarias
import psycopg2
from psycopg2 import Error # Importar la clase Error
from psycopg2 import sql
import pandas as pd
Conexión con la base de datos PostgreSQL
# Conexión a la base de datos
def create_database_connection():
conn = None
try:
conn = psycopg2.connect(
database="datafundamental",
user="datafundamental_owner",
password="uozci0wQGpA6",
host="ep-solitary-pond-a2p3evpo.eu-central-1.aws.neon.tech",
sslmode="require",
port=5432
)
print("Connected to 'datafundamental' successfully.")
except psycopg2.Error as err:
print(f"