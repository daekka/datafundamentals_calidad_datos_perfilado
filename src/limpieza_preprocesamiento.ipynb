{
 "cells": [
  {
   "cell_type": "markdown",
   "metadata": {},
   "source": [
    "# Librerías"
   ]
  },
  {
   "cell_type": "code",
   "execution_count": 89,
   "metadata": {},
   "outputs": [],
   "source": [
    "import pandas as pd"
   ]
  },
  {
   "cell_type": "markdown",
   "metadata": {},
   "source": [
    "# Cargar los tres datasets:"
   ]
  },
  {
   "cell_type": "code",
   "execution_count": 90,
   "metadata": {},
   "outputs": [],
   "source": [
    "# Cargar los tres datasets:\n",
    "base_url = \"https://raw.githubusercontent.com/ricardoahumada/DataExpert/refs/heads/main/etapa2/data/\"\n",
    "\n",
    "try:\n",
    "    df_original_caracteristicas_equipos = pd.read_csv(base_url + 'Caracteristicas_Equipos.csv')\n",
    "    df_original_historico_ordenes = pd.read_csv(base_url + 'Historicos_Ordenes.csv')\n",
    "    df_original_registros_condiciones = pd.read_csv(base_url + 'Registros_Condiciones.csv')\n",
    "\n",
    "except Exception as e:\n",
    "    print(f\"Error al cargar los datos: {str(e)}\")\n"
   ]
  },
  {
   "cell_type": "markdown",
   "metadata": {},
   "source": [
    "# Identificar y manejar valores nulos en las columnas clave (por ejemplo, Costo_Mantenimiento, Temperatura_C y Horas_Operativas)."
   ]
  },
  {
   "cell_type": "code",
   "execution_count": 91,
   "metadata": {},
   "outputs": [
    {
     "name": "stdout",
     "output_type": "stream",
     "text": [
      "<class 'pandas.core.frame.DataFrame'>\n",
      "RangeIndex: 505 entries, 0 to 504\n",
      "Data columns (total 6 columns):\n",
      " #   Column                       Non-Null Count  Dtype  \n",
      "---  ------                       --------------  -----  \n",
      " 0   ID_Equipo                    505 non-null    int64  \n",
      " 1   Tipo_Equipo                  505 non-null    object \n",
      " 2   Fabricante                   505 non-null    object \n",
      " 3   Modelo                       505 non-null    object \n",
      " 4   Potencia_kW                  505 non-null    float64\n",
      " 5   Horas_Recomendadas_Revision  505 non-null    int64  \n",
      "dtypes: float64(1), int64(2), object(3)\n",
      "memory usage: 23.8+ KB\n",
      "None\n",
      "                             Valores Nulos\n",
      "ID_Equipo                                0\n",
      "Tipo_Equipo                              0\n",
      "Fabricante                               0\n",
      "Modelo                                   0\n",
      "Potencia_kW                              0\n",
      "Horas_Recomendadas_Revision              0\n"
     ]
    }
   ],
   "source": [
    "# Características de Equipos\n",
    "print(df_original_caracteristicas_equipos.info())\n",
    "print(df_original_caracteristicas_equipos.isnull().sum().to_frame('Valores Nulos'))\n",
    "df_sin_nulos_caracteristicas_equipos = df_original_caracteristicas_equipos.dropna().copy()"
   ]
  },
  {
   "cell_type": "code",
   "execution_count": 92,
   "metadata": {},
   "outputs": [
    {
     "name": "stdout",
     "output_type": "stream",
     "text": [
      "<class 'pandas.core.frame.DataFrame'>\n",
      "RangeIndex: 10020 entries, 0 to 10019\n",
      "Data columns (total 7 columns):\n",
      " #   Column               Non-Null Count  Dtype  \n",
      "---  ------               --------------  -----  \n",
      " 0   ID_Orden             10020 non-null  int64  \n",
      " 1   ID_Equipo            10020 non-null  int64  \n",
      " 2   Fecha                10020 non-null  object \n",
      " 3   Tipo_Mantenimiento   10020 non-null  object \n",
      " 4   Costo_Mantenimiento  9971 non-null   float64\n",
      " 5   Duracion_Horas       10020 non-null  int64  \n",
      " 6   Ubicacion            10020 non-null  object \n",
      "dtypes: float64(1), int64(3), object(3)\n",
      "memory usage: 548.1+ KB\n",
      "None\n",
      "                     Valores Nulos\n",
      "ID_Orden                         0\n",
      "ID_Equipo                        0\n",
      "Fecha                            0\n",
      "Tipo_Mantenimiento               0\n",
      "Costo_Mantenimiento             49\n",
      "Duracion_Horas                   0\n",
      "Ubicacion                        0\n"
     ]
    }
   ],
   "source": [
    "# Histórico de Órdenes\n",
    "print(df_original_historico_ordenes.info())\n",
    "print(df_original_historico_ordenes.isnull().sum().to_frame('Valores Nulos'))\n",
    "df_sin_nulos_historico_ordenes = df_original_historico_ordenes.dropna().copy()"
   ]
  },
  {
   "cell_type": "code",
   "execution_count": 93,
   "metadata": {},
   "outputs": [
    {
     "name": "stdout",
     "output_type": "stream",
     "text": [
      "<class 'pandas.core.frame.DataFrame'>\n",
      "RangeIndex: 9000 entries, 0 to 8999\n",
      "Data columns (total 6 columns):\n",
      " #   Column            Non-Null Count  Dtype  \n",
      "---  ------            --------------  -----  \n",
      " 0   ID_Registro       9000 non-null   int64  \n",
      " 1   ID_Equipo         9000 non-null   int64  \n",
      " 2   Fecha             9000 non-null   object \n",
      " 3   Temperatura_C     9000 non-null   float64\n",
      " 4   Vibracion_mm_s    9000 non-null   float64\n",
      " 5   Horas_Operativas  8960 non-null   float64\n",
      "dtypes: float64(3), int64(2), object(1)\n",
      "memory usage: 422.0+ KB\n",
      "None\n",
      "                  Valores Nulos\n",
      "ID_Registro                   0\n",
      "ID_Equipo                     0\n",
      "Fecha                         0\n",
      "Temperatura_C                 0\n",
      "Vibracion_mm_s                0\n",
      "Horas_Operativas             40\n"
     ]
    }
   ],
   "source": [
    "# Registros de Condiciones\n",
    "print(df_original_registros_condiciones.info())\n",
    "print(df_original_registros_condiciones.isnull().sum().to_frame('Valores Nulos'))\n",
    "df_sin_nulos_registros_condiciones = df_original_registros_condiciones.dropna().copy()"
   ]
  },
  {
   "cell_type": "markdown",
   "metadata": {},
   "source": [
    "# Eliminar duplicados y corregir inconsistencias de formato (como valores erróneos en campos numéricos)."
   ]
  },
  {
   "cell_type": "code",
   "execution_count": 94,
   "metadata": {},
   "outputs": [
    {
     "name": "stdout",
     "output_type": "stream",
     "text": [
      "<class 'pandas.core.frame.DataFrame'>\n",
      "Int64Index: 500 entries, 0 to 499\n",
      "Data columns (total 6 columns):\n",
      " #   Column                       Non-Null Count  Dtype  \n",
      "---  ------                       --------------  -----  \n",
      " 0   ID_Equipo                    500 non-null    int64  \n",
      " 1   Tipo_Equipo                  500 non-null    object \n",
      " 2   Fabricante                   500 non-null    object \n",
      " 3   Modelo                       500 non-null    object \n",
      " 4   Potencia_kW                  500 non-null    float64\n",
      " 5   Horas_Recomendadas_Revision  500 non-null    int64  \n",
      "dtypes: float64(1), int64(2), object(3)\n",
      "memory usage: 27.3+ KB\n",
      "None\n"
     ]
    }
   ],
   "source": [
    "# Características de Equipos\n",
    "df_sin_duplicados_caracteristicas_equipos = df_sin_nulos_caracteristicas_equipos.drop_duplicates().copy()\n",
    "print (df_sin_duplicados_caracteristicas_equipos.info())\n"
   ]
  },
  {
   "cell_type": "code",
   "execution_count": 95,
   "metadata": {},
   "outputs": [
    {
     "name": "stdout",
     "output_type": "stream",
     "text": [
      "<class 'pandas.core.frame.DataFrame'>\n",
      "Int64Index: 9951 entries, 0 to 9999\n",
      "Data columns (total 7 columns):\n",
      " #   Column               Non-Null Count  Dtype         \n",
      "---  ------               --------------  -----         \n",
      " 0   ID_Orden             9951 non-null   int64         \n",
      " 1   ID_Equipo            9951 non-null   int64         \n",
      " 2   Fecha                9951 non-null   datetime64[ns]\n",
      " 3   Tipo_Mantenimiento   9951 non-null   object        \n",
      " 4   Costo_Mantenimiento  9951 non-null   float64       \n",
      " 5   Duracion_Horas       9951 non-null   int64         \n",
      " 6   Ubicacion            9951 non-null   object        \n",
      "dtypes: datetime64[ns](1), float64(1), int64(3), object(2)\n",
      "memory usage: 621.9+ KB\n",
      "None\n"
     ]
    }
   ],
   "source": [
    "# Histórico de Órdenes\n",
    "df_sin_duplicados_historico_ordenes = df_sin_nulos_historico_ordenes.drop_duplicates().copy()\n",
    "\n",
    "# Convertir campo fecha a datetime\n",
    "df_sin_duplicados_historico_ordenes['Fecha'] = pd.to_datetime(df_sin_duplicados_historico_ordenes['Fecha'])\n",
    "\n",
    "print(df_sin_duplicados_historico_ordenes.info())"
   ]
  },
  {
   "cell_type": "code",
   "execution_count": 96,
   "metadata": {},
   "outputs": [
    {
     "name": "stdout",
     "output_type": "stream",
     "text": [
      "<class 'pandas.core.frame.DataFrame'>\n",
      "Int64Index: 8960 entries, 0 to 8999\n",
      "Data columns (total 6 columns):\n",
      " #   Column            Non-Null Count  Dtype         \n",
      "---  ------            --------------  -----         \n",
      " 0   ID_Registro       8960 non-null   int64         \n",
      " 1   ID_Equipo         8960 non-null   int64         \n",
      " 2   Fecha             8960 non-null   datetime64[ns]\n",
      " 3   Temperatura_C     8960 non-null   float64       \n",
      " 4   Vibracion_mm_s    8960 non-null   float64       \n",
      " 5   Horas_Operativas  8960 non-null   float64       \n",
      "dtypes: datetime64[ns](1), float64(3), int64(2)\n",
      "memory usage: 490.0 KB\n",
      "None\n"
     ]
    }
   ],
   "source": [
    "# Registros de Condiciones\n",
    "df_sin_duplicados_registros_condiciones = df_sin_nulos_registros_condiciones.drop_duplicates().copy()\n",
    "\n",
    "# Convertir campo fecha a datetime\n",
    "df_sin_duplicados_registros_condiciones['Fecha'] = pd.to_datetime(df_sin_duplicados_registros_condiciones['Fecha'])\n",
    "\n",
    "print(df_sin_duplicados_registros_condiciones.info())"
   ]
  },
  {
   "cell_type": "markdown",
   "metadata": {},
   "source": [
    "# Agregar nuevas columnas relevantes como:\n",
    "\n",
    " - Frecuencia de mantenimiento: Número de mantenimientos realizados por equipo.\n",
    " - Vida útil estimada: Estimación de la vida útil de los equipos basada en las horas operativas."
   ]
  },
  {
   "cell_type": "code",
   "execution_count": 97,
   "metadata": {},
   "outputs": [],
   "source": [
    "# Contar la frecuencia de mantenimiento por ID_Equipo\n",
    "frecuencia_mantenimiento = df_sin_duplicados_historico_ordenes['ID_Equipo'].value_counts().reset_index()\n",
    "frecuencia_mantenimiento.columns = ['ID_Equipo', 'Frecuencia_Mantenimiento']\n",
    "\n",
    "# Unir la información de mantenimiento al df_equipos\n",
    "df_caracteristicas_equipos_columnas_relevantes = df_sin_duplicados_caracteristicas_equipos.merge(frecuencia_mantenimiento, on='ID_Equipo', how='left')\n",
    "# Rellenar valores NaN con 0 (equipos sin mantenimientos registrados)\n",
    "df_caracteristicas_equipos_columnas_relevantes['Frecuencia_Mantenimiento'] = df_caracteristicas_equipos_columnas_relevantes['Frecuencia_Mantenimiento'].fillna(0).astype(int)\n",
    "\n",
    "# Vida útil estimada: Estimación de la vida útil de los equipos basada en las horas operativas.\n",
    "#df_caracteristicas_equipos_columnas_relevantes = df_caracteristicas_equipos_columnas_relevantes.merge(df_sin_duplicados_registros_condiciones[[\"ID_Equipo\", \"Horas_Operativas\"]], on=\"ID_Equipo\", how='left')\n",
    "\n"
   ]
  },
  {
   "cell_type": "markdown",
   "metadata": {},
   "source": [
    "# Guardo los df tratados"
   ]
  },
  {
   "cell_type": "code",
   "execution_count": 98,
   "metadata": {},
   "outputs": [],
   "source": [
    "df_caracteristicas_equipos_columnas_relevantes.to_csv(\"../output/df_caracteristicas_equipos_tratados.csv\", index=False)\n",
    "df_sin_duplicados_historico_ordenes.to_csv(\"../output/df_historico_ordenes_tratados.csv\", index=False)\n",
    "df_sin_duplicados_registros_condiciones.to_csv(\"../output/df_registros_condiciones_tratados.csv\", index=False)\n"
   ]
  }
 ],
 "metadata": {
  "kernelspec": {
   "display_name": "Pycaret",
   "language": "python",
   "name": "python3"
  },
  "language_info": {
   "codemirror_mode": {
    "name": "ipython",
    "version": 3
   },
   "file_extension": ".py",
   "mimetype": "text/x-python",
   "name": "python",
   "nbconvert_exporter": "python",
   "pygments_lexer": "ipython3",
   "version": "3.9.15"
  }
 },
 "nbformat": 4,
 "nbformat_minor": 2
}
